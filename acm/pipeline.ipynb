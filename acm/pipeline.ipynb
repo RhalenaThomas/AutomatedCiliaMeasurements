{
 "cells": [
  {
   "cell_type": "code",
   "execution_count": null,
   "metadata": {},
   "outputs": [],
   "source": [
    "import pandas as pd\n",
    "import numpy as np\n",
    "import os\n",
    "from scipy.spatial import KDTree\n",
    "from bisect import insort\n",
    "from collections import defaultdict\n",
    "import math"
   ]
  },
  {
   "cell_type": "code",
   "execution_count": null,
   "metadata": {},
   "outputs": [],
   "source": [
    "def match(parents, childs, arity, thresholds=None):\n",
    "\n",
    "    kd_tree = KDTree(data=parents, leafsize=10)\n",
    "\n",
    "    child_to_parent = {}\n",
    "    visited_child = {}\n",
    "    parent_to_child = defaultdict(list)\n",
    "\n",
    "    num_parents = len(parents) + 1 # 1-based for KDTree query\n",
    "\n",
    "    for child_idx, child_coords in enumerate(childs):\n",
    "\n",
    "        # Initialize child_to_parent record in dictionary\n",
    "        child_to_parent[child_idx] = {}\n",
    "        child_to_parent[child_idx][\"path_length\"] = float(\"inf\") # The length of the shortest path\n",
    "        child_to_parent[child_idx][\"parent\"] = None # The index of the cell to which the shortest path corresponds\n",
    "\n",
    "        # Record coordinates in visited_child dictionary\n",
    "        visited_child[child_idx] = child_coords\n",
    "\n",
    "        # Target child_idx to lookup in KDTree\n",
    "        lookup_child_idx = child_idx\n",
    "\n",
    "        for k in range(1, num_parents+1):\n",
    "\n",
    "            # Query closest parent\n",
    "            dist_arr, parent_idx_arr = kd_tree.query(x=visited_child[lookup_child_idx], k=[k], workers=1)\n",
    "            dist = float(dist_arr[0])\n",
    "            parent_idx = int(parent_idx_arr[0])\n",
    "\n",
    "            # Get threshold\n",
    "            if thresholds:\n",
    "                threshold = 2.5 * thresholds[parent_idx]\n",
    "            else:\n",
    "                threshold = float(\"inf\")\n",
    "\n",
    "            # If closest parent distance is greater than threshold or if missing neighbor (dist is inf), child is automatically invalidated\n",
    "            if dist > threshold or dist == float(\"inf\"):\n",
    "                child_to_parent[lookup_child_idx][\"path_length\"] = -1\n",
    "                child_to_parent[lookup_child_idx][\"parent\"] = -1\n",
    "                break\n",
    "\n",
    "            # Add parent information to child_to_parent dictionary\n",
    "            child_to_parent[lookup_child_idx][\"path_length\"] = dist\n",
    "            child_to_parent[lookup_child_idx][\"parent\"] = parent_idx\n",
    "\n",
    "            # Add child information to parent_to_child dictionary\n",
    "            insort(parent_to_child[parent_idx], (dist, lookup_child_idx))\n",
    "\n",
    "            # Check if parent has number of childs exceeding arity\n",
    "            if len(parent_to_child[parent_idx]) > arity:\n",
    "\n",
    "                # Remove the furthest child\n",
    "                _, child_to_remove = parent_to_child[parent_idx].pop()\n",
    "\n",
    "                # Case of no possible match - no more parents left\n",
    "                if k == num_parents:\n",
    "                    child_to_parent[child_to_remove][\"path_length\"] = -1\n",
    "                    child_to_parent[child_to_remove][\"parent\"] = -1\n",
    "                else: \n",
    "                # Proceed to match with next possible closest parent\n",
    "\n",
    "                    # Reintialize child_to_parent record in dictionary\n",
    "                    child_to_parent[child_to_remove][\"path_length\"] = float(\"inf\")\n",
    "                    child_to_parent[child_to_remove][\"parent\"] = None\n",
    "\n",
    "                    # Set removed child as lookup target to match with next available neighbor\n",
    "                    lookup_child_idx = child_to_remove\n",
    "            else:\n",
    "                # If insertion suceed, proceed to next child in list\n",
    "                break\n",
    "\n",
    "    return child_to_parent      \n"
   ]
  },
  {
   "cell_type": "code",
   "execution_count": null,
   "metadata": {},
   "outputs": [],
   "source": [
    "cellprofiler_path = \"/home/krarm/AutomatedCiliaMeasurements/sample_csvs\""
   ]
  },
  {
   "cell_type": "code",
   "execution_count": null,
   "metadata": {},
   "outputs": [],
   "source": [
    "# Targeted fields to read from cellprofiler csvs\n",
    "fields = [\"ImageNumber\", \"ObjectNumber\", \"Location_Center_X\", \"Location_Center_Y\", \"AreaShape_MeanRadius\"]"
   ]
  },
  {
   "cell_type": "code",
   "execution_count": null,
   "metadata": {},
   "outputs": [],
   "source": [
    "nucleus_df = pd.read_csv(\n",
    "    os.path.join(cellprofiler_path, \"MyExpt_Nucleus.csv\"), \n",
    "    skipinitialspace=True\n",
    ")\n",
    "nucleus_df = nucleus_df.astype({\"ImageNumber\": pd.Int64Dtype(), \"ObjectNumber\": pd.Int64Dtype()})\n",
    "nucleus_df.rename(columns={\"ObjectNumber\": \"Nucleus\"}, inplace=True)\n",
    "nucleus_df"
   ]
  },
  {
   "cell_type": "code",
   "execution_count": null,
   "metadata": {},
   "outputs": [],
   "source": [
    "centriole_df = pd.read_csv(\n",
    "    os.path.join(cellprofiler_path, \"MyExpt_Centriole.csv\"), \n",
    "    skipinitialspace=True\n",
    ")\n",
    "centriole_df = centriole_df.astype({\"ImageNumber\": pd.Int64Dtype(), \"ObjectNumber\": pd.Int64Dtype()})\n",
    "centriole_df.rename(columns={\"ObjectNumber\": \"Centriole\"}, inplace=True)\n",
    "centriole_df"
   ]
  },
  {
   "cell_type": "code",
   "execution_count": null,
   "metadata": {},
   "outputs": [],
   "source": [
    "cilia_df = pd.read_csv(\n",
    "    os.path.join(cellprofiler_path, \"MyExpt_Cilia.csv\"), \n",
    "    skipinitialspace=True\n",
    ")\n",
    "cilia_df = cilia_df.astype({\"ImageNumber\": pd.Int64Dtype(), \"ObjectNumber\": pd.Int64Dtype()})\n",
    "cilia_df.rename(columns={\"ObjectNumber\": \"Cilia\"}, inplace=True)\n",
    "cilia_df"
   ]
  },
  {
   "cell_type": "code",
   "execution_count": null,
   "metadata": {},
   "outputs": [],
   "source": [
    "# Create location dictionary (for easy distance calculation)\n",
    "nucleus_loc_dict = nucleus_df.groupby(\"ImageNumber\")[[\"Nucleus\", \"Location_Center_X\", \"Location_Center_Y\"]].apply(lambda x : x.set_index(\"Nucleus\").to_dict(orient=\"index\")).to_dict()\n",
    "centriole_loc_dict = centriole_df.groupby(\"ImageNumber\")[[\"Centriole\", \"Location_Center_X\", \"Location_Center_Y\"]].apply(lambda x : x.set_index(\"Centriole\").to_dict(orient=\"index\")).to_dict()\n",
    "cilia_loc_dict = cilia_df.groupby(\"ImageNumber\")[[\"Cilia\", \"Location_Center_X\", \"Location_Center_Y\"]].apply(lambda x : x.set_index(\"Cilia\").to_dict(orient=\"index\")).to_dict()"
   ]
  },
  {
   "cell_type": "code",
   "execution_count": null,
   "metadata": {},
   "outputs": [],
   "source": [
    "grouped_nucleus = nucleus_df.groupby(\"ImageNumber\")\n",
    "grouped_centriole = centriole_df.groupby(\"ImageNumber\")\n",
    "grouped_cilia = cilia_df.groupby(\"ImageNumber\")"
   ]
  },
  {
   "cell_type": "code",
   "execution_count": null,
   "metadata": {},
   "outputs": [],
   "source": [
    "# Initialize c2c_df\n",
    "c2c_df = pd.DataFrame(columns=['ImageNumber', 'Nucleus', 'Centriole1', 'Centriole2', 'Cilia', 'Nuc_Cent1', 'Nuc_Cent2', 'Nuc_Cil'])\n",
    "\n",
    "# Iterate over groups \n",
    "# Note: groups in grouped_nucleus, grouped_centriole and grouped_cilia are expected to be aligned\n",
    "for key in grouped_nucleus.groups.keys():\n",
    "\n",
    "    # Fetch respective group\n",
    "    nucleus_group = grouped_nucleus.get_group(key)\n",
    "    centriole_group = grouped_centriole.get_group(key)\n",
    "    cilia_group = grouped_cilia.get_group(key)\n",
    "\n",
    "    coord_fields = [\"Location_Center_X\", \"Location_Center_Y\"]\n",
    "    threshold_field = \"AreaShape_MeanRadius\"\n",
    "\n",
    "    #region : Nucleus - Centriole Matching\n",
    "\n",
    "    # Match nucleus (parent) with closest 2 centrioles (child) \n",
    "    nucleus_centriole_match_dict = match(\n",
    "        parents=nucleus_group.loc[:, coord_fields].values, \n",
    "        childs=centriole_group.loc[:, coord_fields].values, \n",
    "        arity=2,\n",
    "        thresholds=nucleus_group[threshold_field].to_list()\n",
    "    )\n",
    "\n",
    "    # Make df from dict and rename columns\n",
    "    nucleus_centriole_match_df = pd.DataFrame.from_dict(nucleus_centriole_match_dict, orient='index')\n",
    "    nucleus_centriole_match_df.rename(columns={\"path_length\":\"Nuc_Cent\", \"parent\":\"Nucleus\"}, inplace=True)\n",
    "    nucleus_centriole_match_df.reset_index(inplace=True, names=\"Centriole\") \n",
    "\n",
    "    # Drop unmatched/invalid centriole\n",
    "    nucleus_centriole_match_df.drop(nucleus_centriole_match_df[nucleus_centriole_match_df.Nucleus == -1].index, inplace=True)   \n",
    "    \n",
    "    # Increment Centriole and Nucleus number since they are 1-based\n",
    "    nucleus_centriole_match_df[\"Centriole\"] += 1\n",
    "    nucleus_centriole_match_df[\"Nucleus\"] += 1\n",
    "\n",
    "    # Sort values by nucleus number and distance from nucleus\n",
    "    nucleus_centriole_match_df = nucleus_centriole_match_df.sort_values(by=['Nucleus', 'Nuc_Cent']).groupby(['Nucleus'], as_index=False).agg(list)\n",
    "\n",
    "    # Split Centriole number and distances from nucleus\n",
    "    try:\n",
    "        nucleus_centriole_split_centriole_df = pd.DataFrame(nucleus_centriole_match_df['Centriole'].to_list(), columns = ['Centriole1', 'Centriole2'], dtype=pd.Int64Dtype())\n",
    "    except ValueError:\n",
    "        nucleus_centriole_split_centriole_df = pd.DataFrame(nucleus_centriole_match_df['Centriole'].to_list(), columns = ['Centriole1'], dtype=pd.Int64Dtype())\n",
    "        nucleus_centriole_split_centriole_df['Centriole2'] = pd.NA\n",
    "\n",
    "    try:\n",
    "        nucleus_centriole_split_nc_df = pd.DataFrame(nucleus_centriole_match_df['Nuc_Cent'].to_list(), columns = ['Nuc_Cent1', 'Nuc_Cent2'])\n",
    "    except ValueError:\n",
    "        nucleus_centriole_split_nc_df = pd.DataFrame(nucleus_centriole_match_df['Nuc_Cent'].to_list(), columns = ['Nuc_Cent1'])\n",
    "        nucleus_centriole_split_nc_df['Nuc_Cent2'] = np.nan\n",
    "\n",
    "    nucleus_centriole_match_df = pd.concat([nucleus_centriole_match_df, nucleus_centriole_split_centriole_df, nucleus_centriole_split_nc_df], axis=1)\n",
    "    nucleus_centriole_match_df.drop(['Centriole', 'Nuc_Cent'], axis=1, inplace=True)\n",
    "    nucleus_centriole_match_df.drop_duplicates(inplace=True)\n",
    "\n",
    "    #endregion\n",
    "\n",
    "    #region : Nucleus - Cilia Matching\n",
    "    \n",
    "    # Match cilia (child) with closest nucleus (parent) \n",
    "    nucleus_cilia_match_dict = match(\n",
    "        parents=nucleus_group.loc[:, coord_fields].values, \n",
    "        childs=cilia_group.loc[:, coord_fields].values, \n",
    "        arity=1\n",
    "    )\n",
    "\n",
    "    # Make df from dict and rename columns\n",
    "    nucleus_cilia_match_df = pd.DataFrame.from_dict(nucleus_cilia_match_dict, orient='index')\n",
    "    nucleus_cilia_match_df.rename(columns={\"path_length\":\"Nuc_Cil\", \"parent\":\"Nucleus\"}, inplace=True)\n",
    "    nucleus_cilia_match_df.reset_index(inplace=True, names=\"Cilia\")\n",
    "\n",
    "    # Drop unmatched/invalid cilia\n",
    "    nucleus_cilia_match_df.drop(nucleus_cilia_match_df[nucleus_cilia_match_df.Nucleus == -1].index, inplace=True)   \n",
    "    \n",
    "    # Increment Cilia and Nucleus number since they are 1-based\n",
    "    nucleus_cilia_match_df[\"Cilia\"] += 1\n",
    "    nucleus_cilia_match_df[\"Nucleus\"] += 1\n",
    "\n",
    "    #endregion\n",
    "\n",
    "    # Merge two matching dataframes\n",
    "    nucleus_centriole_cilia_df = nucleus_centriole_match_df.merge(right=nucleus_cilia_match_df, how='outer', on=['Nucleus'])\n",
    "\n",
    "    # Set ImageNumber \n",
    "    nucleus_centriole_cilia_df[\"ImageNumber\"] = key\n",
    "\n",
    "    # Concat in c2c output\n",
    "    c2c_df = pd.concat([c2c_df, nucleus_centriole_cilia_df], ignore_index=True)\n",
    "\n",
    "# Ensure all columns are in appropriate datatypes\n",
    "c2c_type_dict = {'ImageNumber': pd.Int64Dtype(), 'Nucleus': pd.Int64Dtype(), 'Centriole1': pd.Int64Dtype(), 'Centriole2': pd.Int64Dtype(), 'Cilia': pd.Int64Dtype()}\n",
    "c2c_df = c2c_df.astype(c2c_type_dict)\n",
    "\n",
    "c2c_df\n",
    "\n",
    "## Should we drop incomplete matching (no cilia, or no cent2) ????\n"
   ]
  },
  {
   "cell_type": "code",
   "execution_count": null,
   "metadata": {},
   "outputs": [],
   "source": [
    "c2c_df[\"Cent1_Cil\"] = c2c_df.apply(lambda x : math.dist(\n",
    "    [centriole_loc_dict[x[\"ImageNumber\"]][x[\"Centriole1\"]][\"Location_Center_X\"], centriole_loc_dict[x[\"ImageNumber\"]][x[\"Centriole1\"]][\"Location_Center_Y\"]], \n",
    "    [cilia_loc_dict[x[\"ImageNumber\"]][x[\"Cilia\"]][\"Location_Center_X\"], cilia_loc_dict[x[\"ImageNumber\"]][x[\"Cilia\"]][\"Location_Center_Y\"]]\n",
    "    ) if pd.notna(x[\"Centriole1\"]) and pd.notna(x[\"Cilia\"]) else np.NaN, axis=1)\n",
    "c2c_df[\"Cent2_Cil\"] = c2c_df.apply(lambda x : math.dist(\n",
    "    [centriole_loc_dict[x[\"ImageNumber\"]][x[\"Centriole2\"]][\"Location_Center_X\"], centriole_loc_dict[x[\"ImageNumber\"]][x[\"Centriole2\"]][\"Location_Center_Y\"]], \n",
    "    [cilia_loc_dict[x[\"ImageNumber\"]][x[\"Cilia\"]][\"Location_Center_X\"], cilia_loc_dict[x[\"ImageNumber\"]][x[\"Cilia\"]][\"Location_Center_Y\"]]\n",
    "    ) if pd.notna(x[\"Centriole2\"]) and pd.notna(x[\"Cilia\"]) else np.NaN, axis=1)\n",
    "c2c_df[\"Cent1_Cent2\"] = c2c_df.apply(lambda x : math.dist(\n",
    "    [centriole_loc_dict[x[\"ImageNumber\"]][x[\"Centriole1\"]][\"Location_Center_X\"], centriole_loc_dict[x[\"ImageNumber\"]][x[\"Centriole1\"]][\"Location_Center_Y\"]], \n",
    "    [centriole_loc_dict[x[\"ImageNumber\"]][x[\"Centriole2\"]][\"Location_Center_X\"], centriole_loc_dict[x[\"ImageNumber\"]][x[\"Centriole2\"]][\"Location_Center_Y\"]]\n",
    "    ) if pd.notna(x[\"Centriole1\"]) and pd.notna(x[\"Centriole2\"]) else np.NaN, axis=1)\n",
    "c2c_df # TODO: Export to csv"
   ]
  },
  {
   "cell_type": "code",
   "execution_count": null,
   "metadata": {},
   "outputs": [],
   "source": [
    "features_df = c2c_df"
   ]
  },
  {
   "cell_type": "code",
   "execution_count": null,
   "metadata": {},
   "outputs": [],
   "source": [
    "features_df = features_df.merge(right=nucleus_df.drop(columns=[\"Location_Center_X\", \"Location_Center_Y\", \"Location_Center_Z\"]).add_prefix(\"Nucleus_\"), how='left', left_on=['ImageNumber', 'Nucleus'], right_on=['Nucleus_ImageNumber', 'Nucleus_Nucleus'])\n",
    "features_df.drop(columns=['Nucleus_ImageNumber', 'Nucleus_Nucleus'], inplace=True)\n",
    "features_df"
   ]
  },
  {
   "cell_type": "code",
   "execution_count": null,
   "metadata": {},
   "outputs": [],
   "source": [
    "features_df = features_df.merge(right=centriole_df.drop(columns=[\"Location_Center_X\", \"Location_Center_Y\", \"Location_Center_Z\"]).add_prefix(\"Centriole1_\"), how='left', left_on=['ImageNumber', 'Centriole1'], right_on=['Centriole1_ImageNumber', 'Centriole1_Centriole'])\n",
    "features_df.drop(columns=['Centriole1_ImageNumber', 'Centriole1_Centriole'], inplace=True)\n",
    "features_df"
   ]
  },
  {
   "cell_type": "code",
   "execution_count": null,
   "metadata": {},
   "outputs": [],
   "source": [
    "features_df = features_df.merge(right=centriole_df.drop(columns=[\"Location_Center_X\", \"Location_Center_Y\", \"Location_Center_Z\"]).add_prefix(\"Centriole2_\"), how='left', left_on=['ImageNumber', 'Centriole2'], right_on=['Centriole2_ImageNumber', 'Centriole2_Centriole'])\n",
    "features_df.drop(columns=['Centriole2_ImageNumber', 'Centriole2_Centriole'], inplace=True)\n",
    "features_df"
   ]
  },
  {
   "cell_type": "code",
   "execution_count": null,
   "metadata": {},
   "outputs": [],
   "source": [
    "features_df = features_df.merge(right=cilia_df.drop(columns=[\"Location_Center_X\", \"Location_Center_Y\", \"Location_Center_Z\"]).add_prefix(\"Cilia_\"), how='left', left_on=['ImageNumber', 'Cilia'], right_on=['Cilia_ImageNumber', 'Cilia_Cilia'])\n",
    "features_df.drop(columns=['Cilia_ImageNumber', 'Cilia_Cilia'], inplace=True)\n",
    "features_df"
   ]
  },
  {
   "cell_type": "code",
   "execution_count": null,
   "metadata": {},
   "outputs": [],
   "source": [
    "features_df.sort_values(by=[\"ImageNumber\", \"Cilia\"], inplace=True, ignore_index=True)\n",
    "features_df # TODO: Export to csv"
   ]
  },
  {
   "cell_type": "code",
   "execution_count": null,
   "metadata": {},
   "outputs": [],
   "source": [
    "# Calculating mean of features for all matched nucleus\n",
    "organelle_id_fields = [\"Nucleus\", \"Centriole1\", \"Centriole2\", \"Cilia\"]\n",
    "mean_features_df = features_df.drop(organelle_id_fields, axis=1).groupby(\"ImageNumber\").mean().add_prefix(\"Mean_\")\n",
    "mean_features_df #TODO: Export to csv and create histogram per feature\n"
   ]
  },
  {
   "cell_type": "code",
   "execution_count": null,
   "metadata": {},
   "outputs": [],
   "source": [
    "# Calculating summary count of matched organelles\n",
    "count_df = features_df[organelle_id_fields + [\"ImageNumber\"]].groupby(\"ImageNumber\").count().add_prefix(\"Matched_\")\n",
    "count_df"
   ]
  },
  {
   "cell_type": "code",
   "execution_count": null,
   "metadata": {},
   "outputs": [],
   "source": [
    "nucleus_count_df = nucleus_df[[\"ImageNumber\", \"Nucleus\"]].groupby(\"ImageNumber\").agg(Total_Nucleus=('Nucleus', 'count'))\n",
    "centriole_count_df = centriole_df[[\"ImageNumber\", \"Centriole\"]].groupby(\"ImageNumber\").agg(Total_Centriole=('Centriole', 'count'))\n",
    "cilia_count_df = cilia_df[[\"ImageNumber\", \"Cilia\"]].groupby(\"ImageNumber\").agg(Total_Cilia=('Cilia', 'count'))\n",
    "count_df = count_df.merge(nucleus_count_df, on=\"ImageNumber\")\n",
    "count_df = count_df.merge(centriole_count_df, on=\"ImageNumber\")\n",
    "count_df = count_df.merge(cilia_count_df, on=\"ImageNumber\")\n",
    "count_df"
   ]
  }
 ],
 "metadata": {
  "kernelspec": {
   "display_name": "venv",
   "language": "python",
   "name": "python3"
  },
  "language_info": {
   "codemirror_mode": {
    "name": "ipython",
    "version": 3
   },
   "file_extension": ".py",
   "mimetype": "text/x-python",
   "name": "python",
   "nbconvert_exporter": "python",
   "pygments_lexer": "ipython3",
   "version": "3.9.18"
  }
 },
 "nbformat": 4,
 "nbformat_minor": 2
}
